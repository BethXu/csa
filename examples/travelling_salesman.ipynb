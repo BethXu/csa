{
 "cells": [
  {
   "cell_type": "markdown",
   "metadata": {},
   "source": [
    "## CSA applied to the travelling salesman problem (TSP)\n",
    "\n",
    "This example was adapted from https://github.com/perrygeo/simanneal/blob/master/examples/salesman.py, which applies (single) SA to the TSP."
   ]
  },
  {
   "cell_type": "code",
   "execution_count": 1,
   "metadata": {
    "collapsed": true
   },
   "outputs": [],
   "source": [
    "from __future__ import print_function\n",
    "\n",
    "import math\n",
    "import random\n",
    "\n",
    "from pycsa import CoupledAnnealer\n",
    "\n",
    "try:\n",
    "    xrange\n",
    "except NameError:\n",
    "    xrange = range"
   ]
  },
  {
   "cell_type": "markdown",
   "metadata": {},
   "source": [
    "Let's create a set of cities to use for TSP."
   ]
  },
  {
   "cell_type": "code",
   "execution_count": 2,
   "metadata": {
    "collapsed": true
   },
   "outputs": [],
   "source": [
    "cities = {\n",
    "    'New York City': (40.72, 74.00),\n",
    "    'Los Angeles': (34.05, 118.25),\n",
    "    'Chicago': (41.88, 87.63),\n",
    "    'Houston': (29.77, 95.38),\n",
    "    'Phoenix': (33.45, 112.07),\n",
    "    'Philadelphia': (39.95, 75.17),\n",
    "    'San Antonio': (29.53, 98.47),\n",
    "    'Dallas': (32.78, 96.80),\n",
    "    'San Diego': (32.78, 117.15),\n",
    "    'San Jose': (37.30, 121.87),\n",
    "    'Detroit': (42.33, 83.05),\n",
    "    'San Francisco': (37.78, 122.42),\n",
    "    'Jacksonville': (30.32, 81.70),\n",
    "    'Indianapolis': (39.78, 86.15),\n",
    "    'Austin': (30.27, 97.77),\n",
    "    'Columbus': (39.98, 82.98),\n",
    "    'Fort Worth': (32.75, 97.33),\n",
    "    'Charlotte': (35.23, 80.85),\n",
    "    'Memphis': (35.12, 89.97),\n",
    "    'Baltimore': (39.28, 76.62)\n",
    "}"
   ]
  },
  {
   "cell_type": "markdown",
   "metadata": {},
   "source": [
    "Now's lets define the function to calculate distances between cities\n",
    "and create a distance matrix."
   ]
  },
  {
   "cell_type": "code",
   "execution_count": 3,
   "metadata": {
    "collapsed": true
   },
   "outputs": [],
   "source": [
    "def distance(a, b):\n",
    "    \"\"\"\n",
    "    Helper function to calculate the distance between two \n",
    "    latitude-longitude coordinates.\n",
    "    \"\"\"\n",
    "    R = 3963  # radius of Earth (miles)\n",
    "    lat1, lon1 = math.radians(a[0]), math.radians(a[1])\n",
    "    lat2, lon2 = math.radians(b[0]), math.radians(b[1])\n",
    "    return math.acos(math.sin(lat1) * math.sin(lat2) +\n",
    "                     math.cos(lat1) * math.cos(lat2) * \n",
    "                     math.cos(lon1 - lon2)) * R\n",
    "\n",
    "# Create the distance matrix between the cities.\n",
    "distance_matrix = {}\n",
    "for ka, va in cities.items():\n",
    "    distance_matrix[ka] = {}\n",
    "    for kb, vb in cities.items():\n",
    "        if kb == ka:\n",
    "            distance_matrix[ka][kb] = 0.0\n",
    "        else:\n",
    "            distance_matrix[ka][kb] = distance(va, vb)"
   ]
  },
  {
   "cell_type": "markdown",
   "metadata": {},
   "source": [
    "Next we have to define the `target_function`, i.e. the cost function to be minimized, and the `probe_function`, which will randomly update the current state at each annealing process."
   ]
  },
  {
   "cell_type": "code",
   "execution_count": 4,
   "metadata": {
    "collapsed": true
   },
   "outputs": [],
   "source": [
    "def probe(positions, tgen):\n",
    "    \"\"\"\n",
    "    Swap two cities in the route.\n",
    "    \n",
    "    Note that `tgen` (the generation temperature) is ignored here.\n",
    "    In general, you can use `tgen` to adjust the variance of\n",
    "    the probing jumps as the algorithm progress.\n",
    "    \"\"\"\n",
    "    a = random.randint(0, len(positions) - 1)\n",
    "    b = random.randint(0, len(positions) - 1)\n",
    "    positions[a], positions[b] = positions[b], positions[a]\n",
    "    return positions\n",
    "\n",
    "\n",
    "def target(positions):\n",
    "    \"\"\"\n",
    "    Calculates the length of the route.\n",
    "    \"\"\"\n",
    "    e = 0\n",
    "    for i in xrange(len(positions)):\n",
    "        e += distance_matrix[positions[i-1]][positions[i]]\n",
    "    return e"
   ]
  },
  {
   "cell_type": "markdown",
   "metadata": {},
   "source": [
    "Okay let's give it a run!"
   ]
  },
  {
   "cell_type": "code",
   "execution_count": 9,
   "metadata": {},
   "outputs": [
    {
     "name": "stdout",
     "output_type": "stream",
     "text": [
      "Step      5, Energy 20,091.0525\n",
      "Updated acceptance temp 950.000000\n",
      "Updated generation temp 0.010000\n",
      "\n",
      "Step     10, Energy 16,484.3502\n",
      "Updated acceptance temp 902.500000\n",
      "Updated generation temp 0.010000\n",
      "\n",
      "Step     15, Energy 16,484.3502\n",
      "Updated acceptance temp 857.375000\n",
      "Updated generation temp 0.010000\n",
      "\n",
      "Step     20, Energy 15,271.2471\n",
      "Updated acceptance temp 814.506250\n",
      "Updated generation temp 0.010000\n",
      "\n",
      "Step     25, Energy 13,225.6880\n",
      "Updated acceptance temp 773.780937\n",
      "Updated generation temp 0.010000\n",
      "\n",
      "Step     30, Energy 13,225.6880\n",
      "Updated acceptance temp 735.091891\n",
      "Updated generation temp 0.009999\n",
      "\n",
      "Step     35, Energy 13,148.0035\n",
      "Updated acceptance temp 771.846485\n",
      "Updated generation temp 0.009999\n",
      "\n",
      "Step     40, Energy 13,148.0035\n",
      "Updated acceptance temp 733.254161\n",
      "Updated generation temp 0.009999\n",
      "\n",
      "Step     45, Energy 12,293.5351\n",
      "Updated acceptance temp 696.591453\n",
      "Updated generation temp 0.009999\n",
      "\n",
      "Step     50, Energy 11,544.4658\n",
      "Updated acceptance temp 661.761880\n",
      "Updated generation temp 0.009999\n",
      "\n",
      "Step     55, Energy 11,544.4658\n",
      "Updated acceptance temp 694.849974\n",
      "Updated generation temp 0.009999\n",
      "\n",
      "Step     60, Energy 11,544.4658\n",
      "Updated acceptance temp 729.592473\n",
      "Updated generation temp 0.009999\n",
      "\n",
      "Step     65, Energy 11,318.2325\n",
      "Updated acceptance temp 766.072097\n",
      "Updated generation temp 0.009999\n",
      "\n",
      "Step     70, Energy 11,244.3575\n",
      "Updated acceptance temp 804.375701\n",
      "Updated generation temp 0.009999\n",
      "\n",
      "Step     75, Energy 10,349.4692\n",
      "Updated acceptance temp 844.594486\n",
      "Updated generation temp 0.009999\n",
      "\n",
      "Step     80, Energy 9,678.7316\n",
      "Updated acceptance temp 886.824211\n",
      "Updated generation temp 0.009998\n",
      "\n",
      "Step     85, Energy 8,378.3478\n",
      "Updated acceptance temp 842.483000\n",
      "Updated generation temp 0.009998\n",
      "\n",
      "Step     90, Energy 8,378.3478\n",
      "Updated acceptance temp 884.607150\n",
      "Updated generation temp 0.009998\n",
      "\n",
      "Step     95, Energy 8,378.3478\n",
      "Updated acceptance temp 928.837508\n",
      "Updated generation temp 0.009998\n",
      "\n",
      "Step    100, Energy 8,378.3478\n",
      "Updated acceptance temp 975.279383\n",
      "Updated generation temp 0.009998\n",
      "\n"
     ]
    }
   ],
   "source": [
    "n_annealers = 10  # the number of coupled annealers\n",
    "\n",
    "init_state = list(cities.keys())\n",
    "random.shuffle(init_state)\n",
    "\n",
    "# Initialize the CSA process.\n",
    "annealer = CoupledAnnealer(\n",
    "    target, \n",
    "    probe, \n",
    "    initial_state=[init_state] * n_annealers,\n",
    "    steps=100,  # You probably want to set this a lot higher, like 10,000\n",
    "    processes=1,   # Only use more than 1 process if the target function is costly to compute\n",
    "    n_annealers=n_annealers,\n",
    "    tacc_initial=1000.0,\n",
    "    verbose=1)\n",
    "\n",
    "# Beging the annealing.\n",
    "annealer.anneal()"
   ]
  },
  {
   "cell_type": "code",
   "execution_count": 10,
   "metadata": {},
   "outputs": [
    {
     "name": "stdout",
     "output_type": "stream",
     "text": [
      "\n",
      "8378 mile route:\n",
      "\t New York City\n",
      "\t Philadelphia\n",
      "\t San Antonio\n",
      "\t Austin\n",
      "\t Houston\n",
      "\t Memphis\n",
      "\t Dallas\n",
      "\t Fort Worth\n",
      "\t Phoenix\n",
      "\t San Diego\n",
      "\t Los Angeles\n",
      "\t San Francisco\n",
      "\t San Jose\n",
      "\t Chicago\n",
      "\t Detroit\n",
      "\t Columbus\n",
      "\t Indianapolis\n",
      "\t Jacksonville\n",
      "\t Charlotte\n",
      "\t Baltimore\n"
     ]
    }
   ],
   "source": [
    "# Get the best result from all `n_annealers`.\n",
    "energy, state = annealer.get_best()\n",
    "\n",
    "# Slide the list of cities until NYC is first.\n",
    "while state[0] != 'New York City':\n",
    "    state = state[1:] + state[:1]\n",
    "\n",
    "print()\n",
    "print(\"%i mile route:\" % energy)\n",
    "for city in state:\n",
    "    print(\"\\t\", city)"
   ]
  }
 ],
 "metadata": {
  "kernelspec": {
   "display_name": "Python 2",
   "language": "python",
   "name": "python2"
  },
  "language_info": {
   "codemirror_mode": {
    "name": "ipython",
    "version": 2
   },
   "file_extension": ".py",
   "mimetype": "text/x-python",
   "name": "python",
   "nbconvert_exporter": "python",
   "pygments_lexer": "ipython2",
   "version": "2.7.13"
  }
 },
 "nbformat": 4,
 "nbformat_minor": 2
}
